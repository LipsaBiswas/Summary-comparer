{
  "nbformat": 4,
  "nbformat_minor": 0,
  "metadata": {
    "accelerator": "GPU",
    "colab": {
      "name": "GradioTestApp2C.ipynb",
      "provenance": [],
      "collapsed_sections": [],
      "authorship_tag": "ABX9TyO49hDxbMFtTkZT7TfmZAli",
      "include_colab_link": true
    },
    "kernelspec": {
      "display_name": "Python 3",
      "name": "python3"
    },
    "language_info": {
      "name": "python"
    },
    "widgets": {
      "application/vnd.jupyter.widget-state+json": {
        "31c2b0cdde924381960bd797b5cc7bd3": {
          "model_module": "@jupyter-widgets/controls",
          "model_name": "HBoxModel",
          "state": {
            "_view_name": "HBoxView",
            "_dom_classes": [],
            "_model_name": "HBoxModel",
            "_view_module": "@jupyter-widgets/controls",
            "_model_module_version": "1.5.0",
            "_view_count": null,
            "_view_module_version": "1.5.0",
            "box_style": "",
            "layout": "IPY_MODEL_68d716c36821435ebc1ff049d3f815ed",
            "_model_module": "@jupyter-widgets/controls",
            "children": [
              "IPY_MODEL_35127ac5c7e348ecb6458656a5e247b4",
              "IPY_MODEL_8b655811a43043639e06e2d6452c68f4"
            ]
          }
        },
        "68d716c36821435ebc1ff049d3f815ed": {
          "model_module": "@jupyter-widgets/base",
          "model_name": "LayoutModel",
          "state": {
            "_view_name": "LayoutView",
            "grid_template_rows": null,
            "right": null,
            "justify_content": null,
            "_view_module": "@jupyter-widgets/base",
            "overflow": null,
            "_model_module_version": "1.2.0",
            "_view_count": null,
            "flex_flow": null,
            "width": null,
            "min_width": null,
            "border": null,
            "align_items": null,
            "bottom": null,
            "_model_module": "@jupyter-widgets/base",
            "top": null,
            "grid_column": null,
            "overflow_y": null,
            "overflow_x": null,
            "grid_auto_flow": null,
            "grid_area": null,
            "grid_template_columns": null,
            "flex": null,
            "_model_name": "LayoutModel",
            "justify_items": null,
            "grid_row": null,
            "max_height": null,
            "align_content": null,
            "visibility": null,
            "align_self": null,
            "height": null,
            "min_height": null,
            "padding": null,
            "grid_auto_rows": null,
            "grid_gap": null,
            "max_width": null,
            "order": null,
            "_view_module_version": "1.2.0",
            "grid_template_areas": null,
            "object_position": null,
            "object_fit": null,
            "grid_auto_columns": null,
            "margin": null,
            "display": null,
            "left": null
          }
        },
        "35127ac5c7e348ecb6458656a5e247b4": {
          "model_module": "@jupyter-widgets/controls",
          "model_name": "FloatProgressModel",
          "state": {
            "_view_name": "ProgressView",
            "style": "IPY_MODEL_131f9ec5351b4144b78dddc246fe192f",
            "_dom_classes": [],
            "description": "Downloading: 100%",
            "_model_name": "FloatProgressModel",
            "bar_style": "success",
            "max": 1912529,
            "_view_module": "@jupyter-widgets/controls",
            "_model_module_version": "1.5.0",
            "value": 1912529,
            "_view_count": null,
            "_view_module_version": "1.5.0",
            "orientation": "horizontal",
            "min": 0,
            "description_tooltip": null,
            "_model_module": "@jupyter-widgets/controls",
            "layout": "IPY_MODEL_e05c1a83c03147398e2d2ecd7ee9f932"
          }
        },
        "8b655811a43043639e06e2d6452c68f4": {
          "model_module": "@jupyter-widgets/controls",
          "model_name": "HTMLModel",
          "state": {
            "_view_name": "HTMLView",
            "style": "IPY_MODEL_c2b6a23b4a5b4e39a7b788f6d10480e3",
            "_dom_classes": [],
            "description": "",
            "_model_name": "HTMLModel",
            "placeholder": "​",
            "_view_module": "@jupyter-widgets/controls",
            "_model_module_version": "1.5.0",
            "value": " 1.91M/1.91M [01:23&lt;00:00, 23.0kB/s]",
            "_view_count": null,
            "_view_module_version": "1.5.0",
            "description_tooltip": null,
            "_model_module": "@jupyter-widgets/controls",
            "layout": "IPY_MODEL_8145d91a164e4578be02e56554a54ada"
          }
        },
        "131f9ec5351b4144b78dddc246fe192f": {
          "model_module": "@jupyter-widgets/controls",
          "model_name": "ProgressStyleModel",
          "state": {
            "_view_name": "StyleView",
            "_model_name": "ProgressStyleModel",
            "description_width": "initial",
            "_view_module": "@jupyter-widgets/base",
            "_model_module_version": "1.5.0",
            "_view_count": null,
            "_view_module_version": "1.2.0",
            "bar_color": null,
            "_model_module": "@jupyter-widgets/controls"
          }
        },
        "e05c1a83c03147398e2d2ecd7ee9f932": {
          "model_module": "@jupyter-widgets/base",
          "model_name": "LayoutModel",
          "state": {
            "_view_name": "LayoutView",
            "grid_template_rows": null,
            "right": null,
            "justify_content": null,
            "_view_module": "@jupyter-widgets/base",
            "overflow": null,
            "_model_module_version": "1.2.0",
            "_view_count": null,
            "flex_flow": null,
            "width": null,
            "min_width": null,
            "border": null,
            "align_items": null,
            "bottom": null,
            "_model_module": "@jupyter-widgets/base",
            "top": null,
            "grid_column": null,
            "overflow_y": null,
            "overflow_x": null,
            "grid_auto_flow": null,
            "grid_area": null,
            "grid_template_columns": null,
            "flex": null,
            "_model_name": "LayoutModel",
            "justify_items": null,
            "grid_row": null,
            "max_height": null,
            "align_content": null,
            "visibility": null,
            "align_self": null,
            "height": null,
            "min_height": null,
            "padding": null,
            "grid_auto_rows": null,
            "grid_gap": null,
            "max_width": null,
            "order": null,
            "_view_module_version": "1.2.0",
            "grid_template_areas": null,
            "object_position": null,
            "object_fit": null,
            "grid_auto_columns": null,
            "margin": null,
            "display": null,
            "left": null
          }
        },
        "c2b6a23b4a5b4e39a7b788f6d10480e3": {
          "model_module": "@jupyter-widgets/controls",
          "model_name": "DescriptionStyleModel",
          "state": {
            "_view_name": "StyleView",
            "_model_name": "DescriptionStyleModel",
            "description_width": "",
            "_view_module": "@jupyter-widgets/base",
            "_model_module_version": "1.5.0",
            "_view_count": null,
            "_view_module_version": "1.2.0",
            "_model_module": "@jupyter-widgets/controls"
          }
        },
        "8145d91a164e4578be02e56554a54ada": {
          "model_module": "@jupyter-widgets/base",
          "model_name": "LayoutModel",
          "state": {
            "_view_name": "LayoutView",
            "grid_template_rows": null,
            "right": null,
            "justify_content": null,
            "_view_module": "@jupyter-widgets/base",
            "overflow": null,
            "_model_module_version": "1.2.0",
            "_view_count": null,
            "flex_flow": null,
            "width": null,
            "min_width": null,
            "border": null,
            "align_items": null,
            "bottom": null,
            "_model_module": "@jupyter-widgets/base",
            "top": null,
            "grid_column": null,
            "overflow_y": null,
            "overflow_x": null,
            "grid_auto_flow": null,
            "grid_area": null,
            "grid_template_columns": null,
            "flex": null,
            "_model_name": "LayoutModel",
            "justify_items": null,
            "grid_row": null,
            "max_height": null,
            "align_content": null,
            "visibility": null,
            "align_self": null,
            "height": null,
            "min_height": null,
            "padding": null,
            "grid_auto_rows": null,
            "grid_gap": null,
            "max_width": null,
            "order": null,
            "_view_module_version": "1.2.0",
            "grid_template_areas": null,
            "object_position": null,
            "object_fit": null,
            "grid_auto_columns": null,
            "margin": null,
            "display": null,
            "left": null
          }
        },
        "d1cd4d7b02e84adf888c3892abfe68cf": {
          "model_module": "@jupyter-widgets/controls",
          "model_name": "HBoxModel",
          "state": {
            "_view_name": "HBoxView",
            "_dom_classes": [],
            "_model_name": "HBoxModel",
            "_view_module": "@jupyter-widgets/controls",
            "_model_module_version": "1.5.0",
            "_view_count": null,
            "_view_module_version": "1.5.0",
            "box_style": "",
            "layout": "IPY_MODEL_01fc92ffdadf40a0a3e0cdf0ad25860f",
            "_model_module": "@jupyter-widgets/controls",
            "children": [
              "IPY_MODEL_d2d20133f0614f3bad9325c57f26cee9",
              "IPY_MODEL_1844491d5eac49b8b1125b1fdc145143"
            ]
          }
        },
        "01fc92ffdadf40a0a3e0cdf0ad25860f": {
          "model_module": "@jupyter-widgets/base",
          "model_name": "LayoutModel",
          "state": {
            "_view_name": "LayoutView",
            "grid_template_rows": null,
            "right": null,
            "justify_content": null,
            "_view_module": "@jupyter-widgets/base",
            "overflow": null,
            "_model_module_version": "1.2.0",
            "_view_count": null,
            "flex_flow": null,
            "width": null,
            "min_width": null,
            "border": null,
            "align_items": null,
            "bottom": null,
            "_model_module": "@jupyter-widgets/base",
            "top": null,
            "grid_column": null,
            "overflow_y": null,
            "overflow_x": null,
            "grid_auto_flow": null,
            "grid_area": null,
            "grid_template_columns": null,
            "flex": null,
            "_model_name": "LayoutModel",
            "justify_items": null,
            "grid_row": null,
            "max_height": null,
            "align_content": null,
            "visibility": null,
            "align_self": null,
            "height": null,
            "min_height": null,
            "padding": null,
            "grid_auto_rows": null,
            "grid_gap": null,
            "max_width": null,
            "order": null,
            "_view_module_version": "1.2.0",
            "grid_template_areas": null,
            "object_position": null,
            "object_fit": null,
            "grid_auto_columns": null,
            "margin": null,
            "display": null,
            "left": null
          }
        },
        "d2d20133f0614f3bad9325c57f26cee9": {
          "model_module": "@jupyter-widgets/controls",
          "model_name": "FloatProgressModel",
          "state": {
            "_view_name": "ProgressView",
            "style": "IPY_MODEL_a74eda93c23b4946b0e90457efbbc0a4",
            "_dom_classes": [],
            "description": "Downloading: 100%",
            "_model_name": "FloatProgressModel",
            "bar_style": "success",
            "max": 65,
            "_view_module": "@jupyter-widgets/controls",
            "_model_module_version": "1.5.0",
            "value": 65,
            "_view_count": null,
            "_view_module_version": "1.5.0",
            "orientation": "horizontal",
            "min": 0,
            "description_tooltip": null,
            "_model_module": "@jupyter-widgets/controls",
            "layout": "IPY_MODEL_6e3f122e530d42b48f19a3efd70a9878"
          }
        },
        "1844491d5eac49b8b1125b1fdc145143": {
          "model_module": "@jupyter-widgets/controls",
          "model_name": "HTMLModel",
          "state": {
            "_view_name": "HTMLView",
            "style": "IPY_MODEL_8d69c1d59b7b49a787187180f6ed1a5e",
            "_dom_classes": [],
            "description": "",
            "_model_name": "HTMLModel",
            "placeholder": "​",
            "_view_module": "@jupyter-widgets/controls",
            "_model_module_version": "1.5.0",
            "value": " 65.0/65.0 [00:02&lt;00:00, 31.3B/s]",
            "_view_count": null,
            "_view_module_version": "1.5.0",
            "description_tooltip": null,
            "_model_module": "@jupyter-widgets/controls",
            "layout": "IPY_MODEL_efae02e0004645878fbcb8bcfc60835d"
          }
        },
        "a74eda93c23b4946b0e90457efbbc0a4": {
          "model_module": "@jupyter-widgets/controls",
          "model_name": "ProgressStyleModel",
          "state": {
            "_view_name": "StyleView",
            "_model_name": "ProgressStyleModel",
            "description_width": "initial",
            "_view_module": "@jupyter-widgets/base",
            "_model_module_version": "1.5.0",
            "_view_count": null,
            "_view_module_version": "1.2.0",
            "bar_color": null,
            "_model_module": "@jupyter-widgets/controls"
          }
        },
        "6e3f122e530d42b48f19a3efd70a9878": {
          "model_module": "@jupyter-widgets/base",
          "model_name": "LayoutModel",
          "state": {
            "_view_name": "LayoutView",
            "grid_template_rows": null,
            "right": null,
            "justify_content": null,
            "_view_module": "@jupyter-widgets/base",
            "overflow": null,
            "_model_module_version": "1.2.0",
            "_view_count": null,
            "flex_flow": null,
            "width": null,
            "min_width": null,
            "border": null,
            "align_items": null,
            "bottom": null,
            "_model_module": "@jupyter-widgets/base",
            "top": null,
            "grid_column": null,
            "overflow_y": null,
            "overflow_x": null,
            "grid_auto_flow": null,
            "grid_area": null,
            "grid_template_columns": null,
            "flex": null,
            "_model_name": "LayoutModel",
            "justify_items": null,
            "grid_row": null,
            "max_height": null,
            "align_content": null,
            "visibility": null,
            "align_self": null,
            "height": null,
            "min_height": null,
            "padding": null,
            "grid_auto_rows": null,
            "grid_gap": null,
            "max_width": null,
            "order": null,
            "_view_module_version": "1.2.0",
            "grid_template_areas": null,
            "object_position": null,
            "object_fit": null,
            "grid_auto_columns": null,
            "margin": null,
            "display": null,
            "left": null
          }
        },
        "8d69c1d59b7b49a787187180f6ed1a5e": {
          "model_module": "@jupyter-widgets/controls",
          "model_name": "DescriptionStyleModel",
          "state": {
            "_view_name": "StyleView",
            "_model_name": "DescriptionStyleModel",
            "description_width": "",
            "_view_module": "@jupyter-widgets/base",
            "_model_module_version": "1.5.0",
            "_view_count": null,
            "_view_module_version": "1.2.0",
            "_model_module": "@jupyter-widgets/controls"
          }
        },
        "efae02e0004645878fbcb8bcfc60835d": {
          "model_module": "@jupyter-widgets/base",
          "model_name": "LayoutModel",
          "state": {
            "_view_name": "LayoutView",
            "grid_template_rows": null,
            "right": null,
            "justify_content": null,
            "_view_module": "@jupyter-widgets/base",
            "overflow": null,
            "_model_module_version": "1.2.0",
            "_view_count": null,
            "flex_flow": null,
            "width": null,
            "min_width": null,
            "border": null,
            "align_items": null,
            "bottom": null,
            "_model_module": "@jupyter-widgets/base",
            "top": null,
            "grid_column": null,
            "overflow_y": null,
            "overflow_x": null,
            "grid_auto_flow": null,
            "grid_area": null,
            "grid_template_columns": null,
            "flex": null,
            "_model_name": "LayoutModel",
            "justify_items": null,
            "grid_row": null,
            "max_height": null,
            "align_content": null,
            "visibility": null,
            "align_self": null,
            "height": null,
            "min_height": null,
            "padding": null,
            "grid_auto_rows": null,
            "grid_gap": null,
            "max_width": null,
            "order": null,
            "_view_module_version": "1.2.0",
            "grid_template_areas": null,
            "object_position": null,
            "object_fit": null,
            "grid_auto_columns": null,
            "margin": null,
            "display": null,
            "left": null
          }
        },
        "427272e6396843f8abd23dfdae976ed6": {
          "model_module": "@jupyter-widgets/controls",
          "model_name": "HBoxModel",
          "state": {
            "_view_name": "HBoxView",
            "_dom_classes": [],
            "_model_name": "HBoxModel",
            "_view_module": "@jupyter-widgets/controls",
            "_model_module_version": "1.5.0",
            "_view_count": null,
            "_view_module_version": "1.5.0",
            "box_style": "",
            "layout": "IPY_MODEL_c6340ec34a8f4634a8ef3009af39d8b0",
            "_model_module": "@jupyter-widgets/controls",
            "children": [
              "IPY_MODEL_ede51fb3e61c4a87bc8ec8bb43b21279",
              "IPY_MODEL_734f8578e45a4fcb9204b943983d9947"
            ]
          }
        },
        "c6340ec34a8f4634a8ef3009af39d8b0": {
          "model_module": "@jupyter-widgets/base",
          "model_name": "LayoutModel",
          "state": {
            "_view_name": "LayoutView",
            "grid_template_rows": null,
            "right": null,
            "justify_content": null,
            "_view_module": "@jupyter-widgets/base",
            "overflow": null,
            "_model_module_version": "1.2.0",
            "_view_count": null,
            "flex_flow": null,
            "width": null,
            "min_width": null,
            "border": null,
            "align_items": null,
            "bottom": null,
            "_model_module": "@jupyter-widgets/base",
            "top": null,
            "grid_column": null,
            "overflow_y": null,
            "overflow_x": null,
            "grid_auto_flow": null,
            "grid_area": null,
            "grid_template_columns": null,
            "flex": null,
            "_model_name": "LayoutModel",
            "justify_items": null,
            "grid_row": null,
            "max_height": null,
            "align_content": null,
            "visibility": null,
            "align_self": null,
            "height": null,
            "min_height": null,
            "padding": null,
            "grid_auto_rows": null,
            "grid_gap": null,
            "max_width": null,
            "order": null,
            "_view_module_version": "1.2.0",
            "grid_template_areas": null,
            "object_position": null,
            "object_fit": null,
            "grid_auto_columns": null,
            "margin": null,
            "display": null,
            "left": null
          }
        },
        "ede51fb3e61c4a87bc8ec8bb43b21279": {
          "model_module": "@jupyter-widgets/controls",
          "model_name": "FloatProgressModel",
          "state": {
            "_view_name": "ProgressView",
            "style": "IPY_MODEL_1ff78d7e80e0472faac726d1a6e7bcb1",
            "_dom_classes": [],
            "description": "Downloading: 100%",
            "_model_name": "FloatProgressModel",
            "bar_style": "success",
            "max": 86,
            "_view_module": "@jupyter-widgets/controls",
            "_model_module_version": "1.5.0",
            "value": 86,
            "_view_count": null,
            "_view_module_version": "1.5.0",
            "orientation": "horizontal",
            "min": 0,
            "description_tooltip": null,
            "_model_module": "@jupyter-widgets/controls",
            "layout": "IPY_MODEL_41b52969e87f4d02af16f6ff165c1a64"
          }
        },
        "734f8578e45a4fcb9204b943983d9947": {
          "model_module": "@jupyter-widgets/controls",
          "model_name": "HTMLModel",
          "state": {
            "_view_name": "HTMLView",
            "style": "IPY_MODEL_61b21e474ecd420bbcdcd99f595dcc1d",
            "_dom_classes": [],
            "description": "",
            "_model_name": "HTMLModel",
            "placeholder": "​",
            "_view_module": "@jupyter-widgets/controls",
            "_model_module_version": "1.5.0",
            "value": " 86.0/86.0 [00:00&lt;00:00, 258B/s]",
            "_view_count": null,
            "_view_module_version": "1.5.0",
            "description_tooltip": null,
            "_model_module": "@jupyter-widgets/controls",
            "layout": "IPY_MODEL_366ee6f9a85c4cdb8afa300bb0d5b594"
          }
        },
        "1ff78d7e80e0472faac726d1a6e7bcb1": {
          "model_module": "@jupyter-widgets/controls",
          "model_name": "ProgressStyleModel",
          "state": {
            "_view_name": "StyleView",
            "_model_name": "ProgressStyleModel",
            "description_width": "initial",
            "_view_module": "@jupyter-widgets/base",
            "_model_module_version": "1.5.0",
            "_view_count": null,
            "_view_module_version": "1.2.0",
            "bar_color": null,
            "_model_module": "@jupyter-widgets/controls"
          }
        },
        "41b52969e87f4d02af16f6ff165c1a64": {
          "model_module": "@jupyter-widgets/base",
          "model_name": "LayoutModel",
          "state": {
            "_view_name": "LayoutView",
            "grid_template_rows": null,
            "right": null,
            "justify_content": null,
            "_view_module": "@jupyter-widgets/base",
            "overflow": null,
            "_model_module_version": "1.2.0",
            "_view_count": null,
            "flex_flow": null,
            "width": null,
            "min_width": null,
            "border": null,
            "align_items": null,
            "bottom": null,
            "_model_module": "@jupyter-widgets/base",
            "top": null,
            "grid_column": null,
            "overflow_y": null,
            "overflow_x": null,
            "grid_auto_flow": null,
            "grid_area": null,
            "grid_template_columns": null,
            "flex": null,
            "_model_name": "LayoutModel",
            "justify_items": null,
            "grid_row": null,
            "max_height": null,
            "align_content": null,
            "visibility": null,
            "align_self": null,
            "height": null,
            "min_height": null,
            "padding": null,
            "grid_auto_rows": null,
            "grid_gap": null,
            "max_width": null,
            "order": null,
            "_view_module_version": "1.2.0",
            "grid_template_areas": null,
            "object_position": null,
            "object_fit": null,
            "grid_auto_columns": null,
            "margin": null,
            "display": null,
            "left": null
          }
        },
        "61b21e474ecd420bbcdcd99f595dcc1d": {
          "model_module": "@jupyter-widgets/controls",
          "model_name": "DescriptionStyleModel",
          "state": {
            "_view_name": "StyleView",
            "_model_name": "DescriptionStyleModel",
            "description_width": "",
            "_view_module": "@jupyter-widgets/base",
            "_model_module_version": "1.5.0",
            "_view_count": null,
            "_view_module_version": "1.2.0",
            "_model_module": "@jupyter-widgets/controls"
          }
        },
        "366ee6f9a85c4cdb8afa300bb0d5b594": {
          "model_module": "@jupyter-widgets/base",
          "model_name": "LayoutModel",
          "state": {
            "_view_name": "LayoutView",
            "grid_template_rows": null,
            "right": null,
            "justify_content": null,
            "_view_module": "@jupyter-widgets/base",
            "overflow": null,
            "_model_module_version": "1.2.0",
            "_view_count": null,
            "flex_flow": null,
            "width": null,
            "min_width": null,
            "border": null,
            "align_items": null,
            "bottom": null,
            "_model_module": "@jupyter-widgets/base",
            "top": null,
            "grid_column": null,
            "overflow_y": null,
            "overflow_x": null,
            "grid_auto_flow": null,
            "grid_area": null,
            "grid_template_columns": null,
            "flex": null,
            "_model_name": "LayoutModel",
            "justify_items": null,
            "grid_row": null,
            "max_height": null,
            "align_content": null,
            "visibility": null,
            "align_self": null,
            "height": null,
            "min_height": null,
            "padding": null,
            "grid_auto_rows": null,
            "grid_gap": null,
            "max_width": null,
            "order": null,
            "_view_module_version": "1.2.0",
            "grid_template_areas": null,
            "object_position": null,
            "object_fit": null,
            "grid_auto_columns": null,
            "margin": null,
            "display": null,
            "left": null
          }
        },
        "7c69fec1ec2d436c81b315f96a26189a": {
          "model_module": "@jupyter-widgets/controls",
          "model_name": "HBoxModel",
          "state": {
            "_view_name": "HBoxView",
            "_dom_classes": [],
            "_model_name": "HBoxModel",
            "_view_module": "@jupyter-widgets/controls",
            "_model_module_version": "1.5.0",
            "_view_count": null,
            "_view_module_version": "1.5.0",
            "box_style": "",
            "layout": "IPY_MODEL_5a1d63383d47458c90972830d128bbf7",
            "_model_module": "@jupyter-widgets/controls",
            "children": [
              "IPY_MODEL_a676b72017114f4783ea56a2611d524c",
              "IPY_MODEL_029b6b33903347f4901f3fefce81bc5f"
            ]
          }
        },
        "5a1d63383d47458c90972830d128bbf7": {
          "model_module": "@jupyter-widgets/base",
          "model_name": "LayoutModel",
          "state": {
            "_view_name": "LayoutView",
            "grid_template_rows": null,
            "right": null,
            "justify_content": null,
            "_view_module": "@jupyter-widgets/base",
            "overflow": null,
            "_model_module_version": "1.2.0",
            "_view_count": null,
            "flex_flow": null,
            "width": null,
            "min_width": null,
            "border": null,
            "align_items": null,
            "bottom": null,
            "_model_module": "@jupyter-widgets/base",
            "top": null,
            "grid_column": null,
            "overflow_y": null,
            "overflow_x": null,
            "grid_auto_flow": null,
            "grid_area": null,
            "grid_template_columns": null,
            "flex": null,
            "_model_name": "LayoutModel",
            "justify_items": null,
            "grid_row": null,
            "max_height": null,
            "align_content": null,
            "visibility": null,
            "align_self": null,
            "height": null,
            "min_height": null,
            "padding": null,
            "grid_auto_rows": null,
            "grid_gap": null,
            "max_width": null,
            "order": null,
            "_view_module_version": "1.2.0",
            "grid_template_areas": null,
            "object_position": null,
            "object_fit": null,
            "grid_auto_columns": null,
            "margin": null,
            "display": null,
            "left": null
          }
        },
        "a676b72017114f4783ea56a2611d524c": {
          "model_module": "@jupyter-widgets/controls",
          "model_name": "FloatProgressModel",
          "state": {
            "_view_name": "ProgressView",
            "style": "IPY_MODEL_ad9422e99df74d74aae25b3605922599",
            "_dom_classes": [],
            "description": "Downloading: 100%",
            "_model_name": "FloatProgressModel",
            "bar_style": "success",
            "max": 1142,
            "_view_module": "@jupyter-widgets/controls",
            "_model_module_version": "1.5.0",
            "value": 1142,
            "_view_count": null,
            "_view_module_version": "1.5.0",
            "orientation": "horizontal",
            "min": 0,
            "description_tooltip": null,
            "_model_module": "@jupyter-widgets/controls",
            "layout": "IPY_MODEL_6d7a7d73619341a3b218f87ffec4207b"
          }
        },
        "029b6b33903347f4901f3fefce81bc5f": {
          "model_module": "@jupyter-widgets/controls",
          "model_name": "HTMLModel",
          "state": {
            "_view_name": "HTMLView",
            "style": "IPY_MODEL_a265bb3ae616490fb16787e1a93a8a71",
            "_dom_classes": [],
            "description": "",
            "_model_name": "HTMLModel",
            "placeholder": "​",
            "_view_module": "@jupyter-widgets/controls",
            "_model_module_version": "1.5.0",
            "value": " 1.14k/1.14k [00:00&lt;00:00, 1.23kB/s]",
            "_view_count": null,
            "_view_module_version": "1.5.0",
            "description_tooltip": null,
            "_model_module": "@jupyter-widgets/controls",
            "layout": "IPY_MODEL_217137aa75a947c0a6752c2b71250d6f"
          }
        },
        "ad9422e99df74d74aae25b3605922599": {
          "model_module": "@jupyter-widgets/controls",
          "model_name": "ProgressStyleModel",
          "state": {
            "_view_name": "StyleView",
            "_model_name": "ProgressStyleModel",
            "description_width": "initial",
            "_view_module": "@jupyter-widgets/base",
            "_model_module_version": "1.5.0",
            "_view_count": null,
            "_view_module_version": "1.2.0",
            "bar_color": null,
            "_model_module": "@jupyter-widgets/controls"
          }
        },
        "6d7a7d73619341a3b218f87ffec4207b": {
          "model_module": "@jupyter-widgets/base",
          "model_name": "LayoutModel",
          "state": {
            "_view_name": "LayoutView",
            "grid_template_rows": null,
            "right": null,
            "justify_content": null,
            "_view_module": "@jupyter-widgets/base",
            "overflow": null,
            "_model_module_version": "1.2.0",
            "_view_count": null,
            "flex_flow": null,
            "width": null,
            "min_width": null,
            "border": null,
            "align_items": null,
            "bottom": null,
            "_model_module": "@jupyter-widgets/base",
            "top": null,
            "grid_column": null,
            "overflow_y": null,
            "overflow_x": null,
            "grid_auto_flow": null,
            "grid_area": null,
            "grid_template_columns": null,
            "flex": null,
            "_model_name": "LayoutModel",
            "justify_items": null,
            "grid_row": null,
            "max_height": null,
            "align_content": null,
            "visibility": null,
            "align_self": null,
            "height": null,
            "min_height": null,
            "padding": null,
            "grid_auto_rows": null,
            "grid_gap": null,
            "max_width": null,
            "order": null,
            "_view_module_version": "1.2.0",
            "grid_template_areas": null,
            "object_position": null,
            "object_fit": null,
            "grid_auto_columns": null,
            "margin": null,
            "display": null,
            "left": null
          }
        },
        "a265bb3ae616490fb16787e1a93a8a71": {
          "model_module": "@jupyter-widgets/controls",
          "model_name": "DescriptionStyleModel",
          "state": {
            "_view_name": "StyleView",
            "_model_name": "DescriptionStyleModel",
            "description_width": "",
            "_view_module": "@jupyter-widgets/base",
            "_model_module_version": "1.5.0",
            "_view_count": null,
            "_view_module_version": "1.2.0",
            "_model_module": "@jupyter-widgets/controls"
          }
        },
        "217137aa75a947c0a6752c2b71250d6f": {
          "model_module": "@jupyter-widgets/base",
          "model_name": "LayoutModel",
          "state": {
            "_view_name": "LayoutView",
            "grid_template_rows": null,
            "right": null,
            "justify_content": null,
            "_view_module": "@jupyter-widgets/base",
            "overflow": null,
            "_model_module_version": "1.2.0",
            "_view_count": null,
            "flex_flow": null,
            "width": null,
            "min_width": null,
            "border": null,
            "align_items": null,
            "bottom": null,
            "_model_module": "@jupyter-widgets/base",
            "top": null,
            "grid_column": null,
            "overflow_y": null,
            "overflow_x": null,
            "grid_auto_flow": null,
            "grid_area": null,
            "grid_template_columns": null,
            "flex": null,
            "_model_name": "LayoutModel",
            "justify_items": null,
            "grid_row": null,
            "max_height": null,
            "align_content": null,
            "visibility": null,
            "align_self": null,
            "height": null,
            "min_height": null,
            "padding": null,
            "grid_auto_rows": null,
            "grid_gap": null,
            "max_width": null,
            "order": null,
            "_view_module_version": "1.2.0",
            "grid_template_areas": null,
            "object_position": null,
            "object_fit": null,
            "grid_auto_columns": null,
            "margin": null,
            "display": null,
            "left": null
          }
        },
        "7a0070c89dec4b728319fb8c66c70408": {
          "model_module": "@jupyter-widgets/controls",
          "model_name": "HBoxModel",
          "state": {
            "_view_name": "HBoxView",
            "_dom_classes": [],
            "_model_name": "HBoxModel",
            "_view_module": "@jupyter-widgets/controls",
            "_model_module_version": "1.5.0",
            "_view_count": null,
            "_view_module_version": "1.5.0",
            "box_style": "",
            "layout": "IPY_MODEL_f99d93dc6152499689b345b4aee5f76f",
            "_model_module": "@jupyter-widgets/controls",
            "children": [
              "IPY_MODEL_3ba09727465b4173b384f1fc3094ca30",
              "IPY_MODEL_b182e277ae574a619097ec14bbbd5154"
            ]
          }
        },
        "f99d93dc6152499689b345b4aee5f76f": {
          "model_module": "@jupyter-widgets/base",
          "model_name": "LayoutModel",
          "state": {
            "_view_name": "LayoutView",
            "grid_template_rows": null,
            "right": null,
            "justify_content": null,
            "_view_module": "@jupyter-widgets/base",
            "overflow": null,
            "_model_module_version": "1.2.0",
            "_view_count": null,
            "flex_flow": null,
            "width": null,
            "min_width": null,
            "border": null,
            "align_items": null,
            "bottom": null,
            "_model_module": "@jupyter-widgets/base",
            "top": null,
            "grid_column": null,
            "overflow_y": null,
            "overflow_x": null,
            "grid_auto_flow": null,
            "grid_area": null,
            "grid_template_columns": null,
            "flex": null,
            "_model_name": "LayoutModel",
            "justify_items": null,
            "grid_row": null,
            "max_height": null,
            "align_content": null,
            "visibility": null,
            "align_self": null,
            "height": null,
            "min_height": null,
            "padding": null,
            "grid_auto_rows": null,
            "grid_gap": null,
            "max_width": null,
            "order": null,
            "_view_module_version": "1.2.0",
            "grid_template_areas": null,
            "object_position": null,
            "object_fit": null,
            "grid_auto_columns": null,
            "margin": null,
            "display": null,
            "left": null
          }
        },
        "3ba09727465b4173b384f1fc3094ca30": {
          "model_module": "@jupyter-widgets/controls",
          "model_name": "FloatProgressModel",
          "state": {
            "_view_name": "ProgressView",
            "style": "IPY_MODEL_f70d78dea87d42529590c582399c3219",
            "_dom_classes": [],
            "description": "Downloading: 100%",
            "_model_name": "FloatProgressModel",
            "bar_style": "success",
            "max": 2275437102,
            "_view_module": "@jupyter-widgets/controls",
            "_model_module_version": "1.5.0",
            "value": 2275437102,
            "_view_count": null,
            "_view_module_version": "1.5.0",
            "orientation": "horizontal",
            "min": 0,
            "description_tooltip": null,
            "_model_module": "@jupyter-widgets/controls",
            "layout": "IPY_MODEL_e356f200727d43db9d102932f65f7d33"
          }
        },
        "b182e277ae574a619097ec14bbbd5154": {
          "model_module": "@jupyter-widgets/controls",
          "model_name": "HTMLModel",
          "state": {
            "_view_name": "HTMLView",
            "style": "IPY_MODEL_b0a9d79ae58d4d9a9b4cb8bd137af7ee",
            "_dom_classes": [],
            "description": "",
            "_model_name": "HTMLModel",
            "placeholder": "​",
            "_view_module": "@jupyter-widgets/controls",
            "_model_module_version": "1.5.0",
            "value": " 2.28G/2.28G [01:15&lt;00:00, 30.3MB/s]",
            "_view_count": null,
            "_view_module_version": "1.5.0",
            "description_tooltip": null,
            "_model_module": "@jupyter-widgets/controls",
            "layout": "IPY_MODEL_b269428f01e34c5e880a699a503fa91f"
          }
        },
        "f70d78dea87d42529590c582399c3219": {
          "model_module": "@jupyter-widgets/controls",
          "model_name": "ProgressStyleModel",
          "state": {
            "_view_name": "StyleView",
            "_model_name": "ProgressStyleModel",
            "description_width": "initial",
            "_view_module": "@jupyter-widgets/base",
            "_model_module_version": "1.5.0",
            "_view_count": null,
            "_view_module_version": "1.2.0",
            "bar_color": null,
            "_model_module": "@jupyter-widgets/controls"
          }
        },
        "e356f200727d43db9d102932f65f7d33": {
          "model_module": "@jupyter-widgets/base",
          "model_name": "LayoutModel",
          "state": {
            "_view_name": "LayoutView",
            "grid_template_rows": null,
            "right": null,
            "justify_content": null,
            "_view_module": "@jupyter-widgets/base",
            "overflow": null,
            "_model_module_version": "1.2.0",
            "_view_count": null,
            "flex_flow": null,
            "width": null,
            "min_width": null,
            "border": null,
            "align_items": null,
            "bottom": null,
            "_model_module": "@jupyter-widgets/base",
            "top": null,
            "grid_column": null,
            "overflow_y": null,
            "overflow_x": null,
            "grid_auto_flow": null,
            "grid_area": null,
            "grid_template_columns": null,
            "flex": null,
            "_model_name": "LayoutModel",
            "justify_items": null,
            "grid_row": null,
            "max_height": null,
            "align_content": null,
            "visibility": null,
            "align_self": null,
            "height": null,
            "min_height": null,
            "padding": null,
            "grid_auto_rows": null,
            "grid_gap": null,
            "max_width": null,
            "order": null,
            "_view_module_version": "1.2.0",
            "grid_template_areas": null,
            "object_position": null,
            "object_fit": null,
            "grid_auto_columns": null,
            "margin": null,
            "display": null,
            "left": null
          }
        },
        "b0a9d79ae58d4d9a9b4cb8bd137af7ee": {
          "model_module": "@jupyter-widgets/controls",
          "model_name": "DescriptionStyleModel",
          "state": {
            "_view_name": "StyleView",
            "_model_name": "DescriptionStyleModel",
            "description_width": "",
            "_view_module": "@jupyter-widgets/base",
            "_model_module_version": "1.5.0",
            "_view_count": null,
            "_view_module_version": "1.2.0",
            "_model_module": "@jupyter-widgets/controls"
          }
        },
        "b269428f01e34c5e880a699a503fa91f": {
          "model_module": "@jupyter-widgets/base",
          "model_name": "LayoutModel",
          "state": {
            "_view_name": "LayoutView",
            "grid_template_rows": null,
            "right": null,
            "justify_content": null,
            "_view_module": "@jupyter-widgets/base",
            "overflow": null,
            "_model_module_version": "1.2.0",
            "_view_count": null,
            "flex_flow": null,
            "width": null,
            "min_width": null,
            "border": null,
            "align_items": null,
            "bottom": null,
            "_model_module": "@jupyter-widgets/base",
            "top": null,
            "grid_column": null,
            "overflow_y": null,
            "overflow_x": null,
            "grid_auto_flow": null,
            "grid_area": null,
            "grid_template_columns": null,
            "flex": null,
            "_model_name": "LayoutModel",
            "justify_items": null,
            "grid_row": null,
            "max_height": null,
            "align_content": null,
            "visibility": null,
            "align_self": null,
            "height": null,
            "min_height": null,
            "padding": null,
            "grid_auto_rows": null,
            "grid_gap": null,
            "max_width": null,
            "order": null,
            "_view_module_version": "1.2.0",
            "grid_template_areas": null,
            "object_position": null,
            "object_fit": null,
            "grid_auto_columns": null,
            "margin": null,
            "display": null,
            "left": null
          }
        }
      }
    }
  },
  "cells": [
    {
      "cell_type": "markdown",
      "metadata": {
        "id": "view-in-github",
        "colab_type": "text"
      },
      "source": [
        "<a href=\"https://colab.research.google.com/github/LipsaBiswas/Summary-comparer/blob/main/GradioTestApp2C.ipynb\" target=\"_parent\"><img src=\"https://colab.research.google.com/assets/colab-badge.svg\" alt=\"Open In Colab\"/></a>"
      ]
    },
    {
      "cell_type": "code",
      "metadata": {
        "id": "giFlIzkIBN2Z",
        "colab": {
          "base_uri": "https://localhost:8080/"
        },
        "outputId": "a8838640-5b9c-44ea-a233-819ea0f1ab5e"
      },
      "source": [
        "# use the configuration file requirements.txt to install the specified packages with the specified version.\n",
        "# !pip install -q -r requirements.txt"
      ],
      "execution_count": 4,
      "outputs": [
        {
          "output_type": "stream",
          "text": [
            "\u001b[K     |████████████████████████████████| 1.5MB 4.3MB/s \n",
            "\u001b[K     |████████████████████████████████| 2.3MB 36.4MB/s \n",
            "\u001b[K     |████████████████████████████████| 1.2MB 32.1MB/s \n",
            "\u001b[K     |████████████████████████████████| 215kB 34.5MB/s \n",
            "\u001b[K     |████████████████████████████████| 1.9MB 36.3MB/s \n",
            "\u001b[K     |████████████████████████████████| 901kB 38.4MB/s \n",
            "\u001b[K     |████████████████████████████████| 3.3MB 35.5MB/s \n",
            "\u001b[K     |████████████████████████████████| 962kB 35.5MB/s \n",
            "\u001b[K     |████████████████████████████████| 71kB 7.7MB/s \n",
            "\u001b[K     |████████████████████████████████| 3.2MB 35.9MB/s \n",
            "\u001b[?25h  Building wheel for ffmpy (setup.py) ... \u001b[?25l\u001b[?25hdone\n",
            "  Building wheel for flask-cachebuster (setup.py) ... \u001b[?25l\u001b[?25hdone\n"
          ],
          "name": "stdout"
        }
      ]
    },
    {
      "cell_type": "code",
      "metadata": {
        "colab": {
          "base_uri": "https://localhost:8080/"
        },
        "id": "_oke2y-PDeME",
        "outputId": "4515ea66-dd97-471b-9721-074a215be31f"
      },
      "source": [
        "from transformers import AutoTokenizer, AutoModelForSeq2SeqLM #Huggingface transformer\n",
        "import torch\n",
        "\n",
        "#For paraphrasing\n",
        "from nltk.tokenize import sent_tokenize\n",
        "from transformers import PegasusForConditionalGeneration, PegasusTokenizer\n",
        "import nltk\n",
        "nltk.download('punkt')\n",
        "#For interface\n",
        "import gradio as gr\n"
      ],
      "execution_count": 5,
      "outputs": [
        {
          "output_type": "stream",
          "text": [
            "[nltk_data] Downloading package punkt to /root/nltk_data...\n",
            "[nltk_data]   Unzipping tokenizers/punkt.zip.\n"
          ],
          "name": "stdout"
        }
      ]
    },
    {
      "cell_type": "code",
      "metadata": {
        "id": "VR5TdShoXdC5"
      },
      "source": [
        " device = torch.device(\"cuda:0\" if torch.cuda.is_available() else \"cpu\")"
      ],
      "execution_count": 6,
      "outputs": []
    },
    {
      "cell_type": "code",
      "metadata": {
        "colab": {
          "base_uri": "https://localhost:8080/",
          "height": 262,
          "referenced_widgets": [
            "31c2b0cdde924381960bd797b5cc7bd3",
            "68d716c36821435ebc1ff049d3f815ed",
            "35127ac5c7e348ecb6458656a5e247b4",
            "8b655811a43043639e06e2d6452c68f4",
            "131f9ec5351b4144b78dddc246fe192f",
            "e05c1a83c03147398e2d2ecd7ee9f932",
            "c2b6a23b4a5b4e39a7b788f6d10480e3",
            "8145d91a164e4578be02e56554a54ada",
            "d1cd4d7b02e84adf888c3892abfe68cf",
            "01fc92ffdadf40a0a3e0cdf0ad25860f",
            "d2d20133f0614f3bad9325c57f26cee9",
            "1844491d5eac49b8b1125b1fdc145143",
            "a74eda93c23b4946b0e90457efbbc0a4",
            "6e3f122e530d42b48f19a3efd70a9878",
            "8d69c1d59b7b49a787187180f6ed1a5e",
            "efae02e0004645878fbcb8bcfc60835d",
            "427272e6396843f8abd23dfdae976ed6",
            "c6340ec34a8f4634a8ef3009af39d8b0",
            "ede51fb3e61c4a87bc8ec8bb43b21279",
            "734f8578e45a4fcb9204b943983d9947",
            "1ff78d7e80e0472faac726d1a6e7bcb1",
            "41b52969e87f4d02af16f6ff165c1a64",
            "61b21e474ecd420bbcdcd99f595dcc1d",
            "366ee6f9a85c4cdb8afa300bb0d5b594",
            "7c69fec1ec2d436c81b315f96a26189a",
            "5a1d63383d47458c90972830d128bbf7",
            "a676b72017114f4783ea56a2611d524c",
            "029b6b33903347f4901f3fefce81bc5f",
            "ad9422e99df74d74aae25b3605922599",
            "6d7a7d73619341a3b218f87ffec4207b",
            "a265bb3ae616490fb16787e1a93a8a71",
            "217137aa75a947c0a6752c2b71250d6f",
            "7a0070c89dec4b728319fb8c66c70408",
            "f99d93dc6152499689b345b4aee5f76f",
            "3ba09727465b4173b384f1fc3094ca30",
            "b182e277ae574a619097ec14bbbd5154",
            "f70d78dea87d42529590c582399c3219",
            "e356f200727d43db9d102932f65f7d33",
            "b0a9d79ae58d4d9a9b4cb8bd137af7ee",
            "b269428f01e34c5e880a699a503fa91f"
          ]
        },
        "id": "wW1XM5U4YGUf",
        "outputId": "9f1590d0-1904-4172-9898-af76d9800947"
      },
      "source": [
        "paraphrase_model_name = 'tuner007/pegasus_paraphrase' \n",
        "paraphrase_tokenizer = PegasusTokenizer.from_pretrained(paraphrase_model_name)\n",
        "paraphrase_model = PegasusForConditionalGeneration.from_pretrained(paraphrase_model_name).to(device)"
      ],
      "execution_count": 7,
      "outputs": [
        {
          "output_type": "display_data",
          "data": {
            "application/vnd.jupyter.widget-view+json": {
              "model_id": "31c2b0cdde924381960bd797b5cc7bd3",
              "version_minor": 0,
              "version_major": 2
            },
            "text/plain": [
              "HBox(children=(FloatProgress(value=0.0, description='Downloading', max=1912529.0, style=ProgressStyle(descript…"
            ]
          },
          "metadata": {
            "tags": []
          }
        },
        {
          "output_type": "stream",
          "text": [
            "\n"
          ],
          "name": "stdout"
        },
        {
          "output_type": "display_data",
          "data": {
            "application/vnd.jupyter.widget-view+json": {
              "model_id": "d1cd4d7b02e84adf888c3892abfe68cf",
              "version_minor": 0,
              "version_major": 2
            },
            "text/plain": [
              "HBox(children=(FloatProgress(value=0.0, description='Downloading', max=65.0, style=ProgressStyle(description_w…"
            ]
          },
          "metadata": {
            "tags": []
          }
        },
        {
          "output_type": "stream",
          "text": [
            "\n"
          ],
          "name": "stdout"
        },
        {
          "output_type": "display_data",
          "data": {
            "application/vnd.jupyter.widget-view+json": {
              "model_id": "427272e6396843f8abd23dfdae976ed6",
              "version_minor": 0,
              "version_major": 2
            },
            "text/plain": [
              "HBox(children=(FloatProgress(value=0.0, description='Downloading', max=86.0, style=ProgressStyle(description_w…"
            ]
          },
          "metadata": {
            "tags": []
          }
        },
        {
          "output_type": "stream",
          "text": [
            "\n"
          ],
          "name": "stdout"
        },
        {
          "output_type": "display_data",
          "data": {
            "application/vnd.jupyter.widget-view+json": {
              "model_id": "7c69fec1ec2d436c81b315f96a26189a",
              "version_minor": 0,
              "version_major": 2
            },
            "text/plain": [
              "HBox(children=(FloatProgress(value=0.0, description='Downloading', max=1142.0, style=ProgressStyle(description…"
            ]
          },
          "metadata": {
            "tags": []
          }
        },
        {
          "output_type": "stream",
          "text": [
            "\n"
          ],
          "name": "stdout"
        },
        {
          "output_type": "display_data",
          "data": {
            "application/vnd.jupyter.widget-view+json": {
              "model_id": "7a0070c89dec4b728319fb8c66c70408",
              "version_minor": 0,
              "version_major": 2
            },
            "text/plain": [
              "HBox(children=(FloatProgress(value=0.0, description='Downloading', max=2275437102.0, style=ProgressStyle(descr…"
            ]
          },
          "metadata": {
            "tags": []
          }
        },
        {
          "output_type": "stream",
          "text": [
            "\n"
          ],
          "name": "stdout"
        }
      ]
    },
    {
      "cell_type": "code",
      "metadata": {
        "id": "cHisq8LNB3-s"
      },
      "source": [
        "#Create a function to generate abstract summary based on input text and pre-trained model provided\n",
        "'''\n",
        "Function name : GenerateSummary\n",
        "Input params :\n",
        "      inp - abstract text whose summary will be generated\n",
        "      pretrained_model_selected - pretrained model name\n",
        "      max_pct - max percent of Original text to be the cap for summary length\n",
        "'''\n",
        "def GenerateSummary(inp,pretrained_model_selected):\n",
        "  paraphrased_abstract=\"\"\n",
        "  paraphrased_summary=\"\"\n",
        "  \n",
        "  try:\n",
        "    pretrained_model_selected = pretrained_model_selected.lower() #lowercase the selected model name\n",
        "    if pretrained_model_selected==\"bert\":\n",
        "        from summarizer import Summarizer \n",
        "        bert_model=Summarizer()\n",
        "        output = bert_model(inp )\n",
        "        #PARAPHRASE abstract         \n",
        "        paraphrased_abstract = ParaphrasePara(inp)\n",
        "        #PARAPHRASE SUMMARY       \n",
        "        paraphrased_summary = ParaphrasePara(output)\n",
        "    else:\n",
        "      \n",
        "      #create auto tokenizer object\n",
        "      tokenizer = AutoTokenizer.from_pretrained(pretrained_model_selected)\n",
        "      #create model object\n",
        "      model = AutoModelForSeq2SeqLM.from_pretrained(pretrained_model_selected)\n",
        "      #Save model to device\n",
        "    \n",
        "      model = model.to(device)\n",
        "\n",
        "      #Preprocess the input text\n",
        "      preprocess_text = inp.strip().replace(\"\\n\",\"\")\n",
        "      tokenized_text = tokenizer.encode(preprocess_text, return_tensors=\"pt\").to(device)\n",
        "      #input ids\n",
        "      summary_ids = model.generate(\n",
        "                  tokenized_text,\n",
        "                  max_length=512, \n",
        "                  num_beams=5,\n",
        "                  repetition_penalty=2.5, \n",
        "                  length_penalty=1.0, \n",
        "                  early_stopping=False\n",
        "              )\n",
        "\n",
        "      #SUMMARY of abstract\n",
        "      output = tokenizer.decode(summary_ids[0], skip_special_tokens=True)\n",
        "      #PARAPHRASE abstract      \n",
        "      paraphrased_abstract = ParaphrasePara(inp)\n",
        "      #PARAPHRASE SUMMARY      \n",
        "      paraphrased_summary = ParaphrasePara(output)\n",
        "\n",
        "  except Exception as e:\n",
        "        output=\" Error occured, please check with the admin: \"+ str(e)\n",
        "  return output,paraphrased_summary,paraphrased_abstract\n",
        "  # print (\"\\n\\nSummarized text: \\n\",output , \"\\n\\nParaphrazed abstract: \\n\",paraphrased_abstract,\"\\n\\nParaphrazed summary: \\n\",paraphrased_summary)"
      ],
      "execution_count": 15,
      "outputs": []
    },
    {
      "cell_type": "code",
      "metadata": {
        "id": "qNuEoihtUJIK"
      },
      "source": [
        "#Create a function to paraphrase sentences\n",
        "'''\n",
        "Function name - ParaphrasePara\n",
        "input param - (string) sentences\n",
        "'''\n",
        "def ParaphrasePara(sentences):\n",
        "  sentences=sentences.replace('.' , '.  ') #some issue with sent tokenizer. Its not tokenizing when no space after full stop\n",
        "  paraphrase = []\n",
        "  \n",
        "  sentence_list = sent_tokenize(sentences) #Tokenize the input paragraph into different sentences\n",
        "  # sentence_list\n",
        "  for i in sentence_list:\n",
        "    a = get_response(i,1) #Call get_response function for each sentence in the paragraph\n",
        "    paraphrase.append(a)\n",
        "  \n",
        "  #Stylize the output\n",
        "  paraphrase2 = [' '.join(x) for x in paraphrase]\n",
        "  paraphrase3 = [' '.join(x for x in paraphrase2) ]\n",
        "  paraphrased_text = str(paraphrase3).strip('[]').strip(\"'\")\n",
        "  # print(paraphrase)\n",
        "  return paraphrased_text"
      ],
      "execution_count": 9,
      "outputs": []
    },
    {
      "cell_type": "code",
      "metadata": {
        "id": "L_p8MdcbXDMw"
      },
      "source": [
        "#Create a function to paraphrase sentences using pretrained paraphrasing models\n",
        "\n",
        "def get_response(input_text,num_return_sequences):  \n",
        "\n",
        "  batch = paraphrase_tokenizer([input_text],truncation=True,padding='longest',  return_tensors=\"pt\").to(device)\n",
        "  translated = paraphrase_model.generate(**batch,num_beams=10, num_return_sequences=num_return_sequences, temperature=1.5)\n",
        "  text_generated = paraphrase_tokenizer.batch_decode(translated, skip_special_tokens=True)\n",
        "  return text_generated"
      ],
      "execution_count": 11,
      "outputs": []
    },
    {
      "cell_type": "code",
      "metadata": {
        "colab": {
          "base_uri": "https://localhost:8080/",
          "height": 640
        },
        "id": "B7CFbnGTe5TV",
        "outputId": "8167587b-abac-44f9-fe76-73b0b7e7006d"
      },
      "source": [
        "#Create GRADIO interface\n",
        "iface = gr.Interface(\n",
        "  fn=GenerateSummary, \n",
        "  inputs=[gr.inputs.Textbox(label=\"Abstract (*Enter paragraphs)\",lines=20, placeholder=\"Enter abstract text here...\") ,\n",
        "          gr.inputs.Radio([\"sshleifer/distilbart-cnn-12-6\",\"deep-learning-analytics/wikihow-t5-small\",\"Bert\", \"google/pegasus-pubmed\", \"mayu0007/pegasus_large_covid\",\"google/pegasus-wikihow\",\"google/pegasus-xsum\"])\n",
        "        ],    \n",
        "  outputs=[\n",
        "           gr.outputs.Textbox(label=\" Summary\"),\n",
        "           gr.outputs.Textbox(label=\" Paraphrased Summary \"),\n",
        "           gr.outputs.Textbox(label=\" Paraphrased abstract\") ],title= \"Auto summarization and paraphrasing\"  )\n",
        "iface.launch(debug=False)"
      ],
      "execution_count": 17,
      "outputs": [
        {
          "output_type": "stream",
          "text": [
            "Colab notebook detected. To show errors in colab notebook, set `debug=True` in `launch()`\n",
            "This share link will expire in 24 hours. If you need a permanent link, visit: https://gradio.app/introducing-hosted (NEW!)\n",
            "Running on External URL: https://28849.gradio.app\n",
            "Interface loading below...\n"
          ],
          "name": "stdout"
        },
        {
          "output_type": "display_data",
          "data": {
            "text/html": [
              "\n",
              "        <iframe\n",
              "            width=\"900\"\n",
              "            height=\"500\"\n",
              "            src=\"https://28849.gradio.app\"\n",
              "            frameborder=\"0\"\n",
              "            allowfullscreen\n",
              "        ></iframe>\n",
              "        "
            ],
            "text/plain": [
              "<IPython.lib.display.IFrame at 0x7fa74a583b10>"
            ]
          },
          "metadata": {
            "tags": []
          }
        },
        {
          "output_type": "execute_result",
          "data": {
            "text/plain": [
              "(<Flask 'gradio.networking'>,\n",
              " 'http://127.0.0.1:7863/',\n",
              " 'https://28849.gradio.app')"
            ]
          },
          "metadata": {
            "tags": []
          },
          "execution_count": 17
        }
      ]
    },
    {
      "cell_type": "code",
      "metadata": {
        "id": "cY-RJrlYNPjY"
      },
      "source": [
        "# #Testing\n",
        "# a ='''\n",
        "# Severe Acute Respiratory Syndrome Coronavirus-2 (SARS-CoV-2), causing Coronavirus Disease 19 (COVID-19), \n",
        "# emerged at the end of 2019 and quickly spread to cause a global pandemic with severe socio-economic consequences. \n",
        "# The early sequencing of its RNA genome revealed its high similarity to SARS, likely to have originated from bats. \n",
        "# The SARS-CoV-2 non-structural protein 10 (nsp10) displays high sequence similarity with its SARS homologue, \n",
        "# which binds to and stimulates the 3'-to-5' exoribonuclease and the 2'-O-methlytransferase activities of nsps 14 and 16,\n",
        "#  respectively. Here, we report the biophysical characterization and 1.6 Å resolution structure of the unbound\n",
        "#   form of nsp10 from SARS-CoV-2 and compare it to the structures of its SARS homologue and the complex-bound \n",
        "#   form with nsp16 from SARS-CoV-2. The crystal structure and solution behaviour of nsp10 will not only form \n",
        "#   the basis for understanding the role of SARS-CoV-2 nsp10 as a central player of the viral RNA capping apparatus, but will also serve as a basis for the development of inhibitors of nsp10, \n",
        "# interfering with crucial functions of the replication-transcription complex and virus replication\n",
        "# '''\n",
        "# b='''\n",
        "# The coronavirus (CoV) spike (S) protein, involved in viral-host cell fusion, is the primary immunogenic target for virus neutralization and the current focus of many vaccine design efforts. The highly flexible S-protein, with its mobile domains, presents a moving target to the immune system. Here, to better understand S-protein mobility, we implemented a structure-based vector analysis of available β-CoV S-protein structures. Despite an overall similarity in domain organization, we found that S-proteins from different β-CoVs display distinct configurations. Based on this analysis, we developed two soluble ectodomain constructs for the SARS-CoV-2 S-protein, in which the highly immunogenic and mobile receptor binding domain (RBD) is either locked in the all-RBDs 'down' position or adopts 'up' state conformations more readily than the wild-type S-protein. These results demonstrate that the conformation of the S-protein can be controlled via rational design and can provide a framework for the development of engineered CoV S-proteins for vaccine applications.\n",
        "# '''\n",
        "\n",
        "# c='''\n",
        "# The COVID-19 pandemic has urged for the repurposing of existing drugs for rapid management and treatment. Renin inhibitors down regulation of ACE2, which is an essential receptor for SARS-CoV-2 infection that is responsible for COVID-19, in addition to their ability to act as protease inhibitors were encouraging aspects for their investigation as possible inhibitors of main protease of SARS-CoV-2 via computational studies. A Pharmacophore model was generated using the newly released SARS-COV-2 main protease inhibitors. Virtual screening was performed on renin inhibitors, and Drug likeness filter identified remikiren and 0IU as hits. Molecular docking for both compounds showed that the orally active renin inhibitor remikiren (Ro 42–5892) of Hoffmann–La Roche exhibited good molecular interaction with Cys145 and His41 in the catalytic site of SARS-CoV-2 main protease. Molecular dynamics simulation suggested that the drug is stable in the active site of the enzyme.\n",
        "# '''\n",
        "# GenerateSummary(c,'deep-learning-analytics/wikihow-t5-small')\n",
        "\n",
        "# GenerateSummary(c,'sshleifer/distilbart-cnn-12-6')"
      ],
      "execution_count": null,
      "outputs": []
    }
  ]
}